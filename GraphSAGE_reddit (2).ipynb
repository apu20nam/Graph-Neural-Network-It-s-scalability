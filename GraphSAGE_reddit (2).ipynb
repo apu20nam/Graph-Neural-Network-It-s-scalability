{
  "cells": [
    {
      "cell_type": "code",
      "execution_count": null,
      "metadata": {
        "colab": {
          "base_uri": "https://localhost:8080/"
        },
        "id": "BTNo_xeGdWbK",
        "outputId": "fc6b6d7c-e64f-4c6b-96d7-5aeaa048bdc5"
      },
      "outputs": [
        {
          "output_type": "stream",
          "name": "stdout",
          "text": [
            "Looking in indexes: https://pypi.org/simple, https://us-python.pkg.dev/colab-wheels/public/simple/\n",
            "Collecting torch-geometric\n",
            "  Downloading torch_geometric-2.3.1.tar.gz (661 kB)\n",
            "\u001b[2K     \u001b[90m━━━━━━━━━━━━━━━━━━━━━━━━━━━━━━━━━━━━━━\u001b[0m \u001b[32m661.6/661.6 kB\u001b[0m \u001b[31m27.3 MB/s\u001b[0m eta \u001b[36m0:00:00\u001b[0m\n",
            "\u001b[?25h  Installing build dependencies ... \u001b[?25l\u001b[?25hdone\n",
            "  Getting requirements to build wheel ... \u001b[?25l\u001b[?25hdone\n",
            "  Preparing metadata (pyproject.toml) ... \u001b[?25l\u001b[?25hdone\n",
            "Requirement already satisfied: tqdm in /usr/local/lib/python3.10/dist-packages (from torch-geometric) (4.65.0)\n",
            "Requirement already satisfied: numpy in /usr/local/lib/python3.10/dist-packages (from torch-geometric) (1.22.4)\n",
            "Requirement already satisfied: scipy in /usr/local/lib/python3.10/dist-packages (from torch-geometric) (1.10.1)\n",
            "Requirement already satisfied: jinja2 in /usr/local/lib/python3.10/dist-packages (from torch-geometric) (3.1.2)\n",
            "Requirement already satisfied: requests in /usr/local/lib/python3.10/dist-packages (from torch-geometric) (2.27.1)\n",
            "Requirement already satisfied: pyparsing in /usr/local/lib/python3.10/dist-packages (from torch-geometric) (3.0.9)\n",
            "Requirement already satisfied: scikit-learn in /usr/local/lib/python3.10/dist-packages (from torch-geometric) (1.2.2)\n",
            "Requirement already satisfied: psutil>=5.8.0 in /usr/local/lib/python3.10/dist-packages (from torch-geometric) (5.9.5)\n",
            "Requirement already satisfied: MarkupSafe>=2.0 in /usr/local/lib/python3.10/dist-packages (from jinja2->torch-geometric) (2.1.2)\n",
            "Requirement already satisfied: urllib3<1.27,>=1.21.1 in /usr/local/lib/python3.10/dist-packages (from requests->torch-geometric) (1.26.15)\n",
            "Requirement already satisfied: certifi>=2017.4.17 in /usr/local/lib/python3.10/dist-packages (from requests->torch-geometric) (2022.12.7)\n",
            "Requirement already satisfied: charset-normalizer~=2.0.0 in /usr/local/lib/python3.10/dist-packages (from requests->torch-geometric) (2.0.12)\n",
            "Requirement already satisfied: idna<4,>=2.5 in /usr/local/lib/python3.10/dist-packages (from requests->torch-geometric) (3.4)\n",
            "Requirement already satisfied: joblib>=1.1.1 in /usr/local/lib/python3.10/dist-packages (from scikit-learn->torch-geometric) (1.2.0)\n",
            "Requirement already satisfied: threadpoolctl>=2.0.0 in /usr/local/lib/python3.10/dist-packages (from scikit-learn->torch-geometric) (3.1.0)\n",
            "Building wheels for collected packages: torch-geometric\n",
            "  Building wheel for torch-geometric (pyproject.toml) ... \u001b[?25l\u001b[?25hdone\n",
            "  Created wheel for torch-geometric: filename=torch_geometric-2.3.1-py3-none-any.whl size=910459 sha256=dca0ad263833f613483eab9c08d5c58de39d3edc4fa1727be8d233e0fd04d1cb\n",
            "  Stored in directory: /root/.cache/pip/wheels/ac/dc/30/e2874821ff308ee67dcd7a66dbde912411e19e35a1addda028\n",
            "Successfully built torch-geometric\n",
            "Installing collected packages: torch-geometric\n",
            "Successfully installed torch-geometric-2.3.1\n",
            "Looking in indexes: https://pypi.org/simple, https://us-python.pkg.dev/colab-wheels/public/simple/\n",
            "Looking in links: https://data.pyg.org/whl/torch-2.0.0+cu118.html\n",
            "Collecting pyg-lib\n",
            "  Downloading https://data.pyg.org/whl/torch-2.0.0%2Bcu118/pyg_lib-0.2.0%2Bpt20cu118-cp310-cp310-linux_x86_64.whl (1.8 MB)\n",
            "\u001b[2K     \u001b[90m━━━━━━━━━━━━━━━━━━━━━━━━━━━━━━━━━━━━━━━━\u001b[0m \u001b[32m1.8/1.8 MB\u001b[0m \u001b[31m35.6 MB/s\u001b[0m eta \u001b[36m0:00:00\u001b[0m\n",
            "\u001b[?25hInstalling collected packages: pyg-lib\n",
            "Successfully installed pyg-lib-0.2.0+pt20cu118\n"
          ]
        }
      ],
      "source": [
        "!pip install torch-geometric\n",
        "!pip install pyg-lib -f https://data.pyg.org/whl/torch-2.0.0+cu118.html"
      ]
    },
    {
      "cell_type": "code",
      "execution_count": null,
      "metadata": {
        "id": "ZVNv_cs1dyvU"
      },
      "outputs": [],
      "source": [
        "import torch\n",
        "import torch.nn as nn\n",
        "import torch.optim as optim\n",
        "from torch_geometric.nn import SAGEConv\n",
        "from torch_geometric.datasets import CitationFull\n",
        "from torch_geometric.data import DataLoader\n",
        "from sklearn.metrics import f1_score,precision_score, recall_score\n",
        "import torch.nn.functional as F\n",
        "from torch.nn import Linear\n",
        "import matplotlib.pyplot as plt\n",
        "from torch_geometric.loader import NeighborLoader\n",
        "from torch_geometric.datasets import Reddit"
      ]
    },
    {
      "cell_type": "code",
      "execution_count": null,
      "metadata": {
        "id": "8lVJNS7GmDh7",
        "colab": {
          "base_uri": "https://localhost:8080/"
        },
        "outputId": "5c92a2b9-b37c-4792-f725-71641844efc8"
      },
      "outputs": [
        {
          "output_type": "stream",
          "name": "stderr",
          "text": [
            "Downloading https://data.dgl.ai/dataset/reddit.zip\n",
            "Extracting ./raw/reddit.zip\n",
            "Processing...\n",
            "Done!\n"
          ]
        }
      ],
      "source": [
        "dataset = Reddit(root='.')"
      ]
    },
    {
      "cell_type": "code",
      "execution_count": null,
      "metadata": {
        "id": "VVidLcxkmd4_"
      },
      "outputs": [],
      "source": [
        "data=dataset[0]"
      ]
    },
    {
      "cell_type": "code",
      "execution_count": null,
      "metadata": {
        "colab": {
          "base_uri": "https://localhost:8080/"
        },
        "id": "78uRGmAPmmJ2",
        "outputId": "18bc86bf-22a0-447d-c122-7e4471855d7c"
      },
      "outputs": [
        {
          "data": {
            "text/plain": [
              "Data(x=[232965, 602], edge_index=[2, 114615892], y=[232965], train_mask=[232965], val_mask=[232965], test_mask=[232965])"
            ]
          },
          "execution_count": 7,
          "metadata": {},
          "output_type": "execute_result"
        }
      ],
      "source": [
        "data"
      ]
    },
    {
      "cell_type": "code",
      "execution_count": null,
      "metadata": {
        "colab": {
          "base_uri": "https://localhost:8080/"
        },
        "id": "bqwfODlYmsnH",
        "outputId": "17e5af6b-5b19-4c1b-b2e5-d3a905176b0e"
      },
      "outputs": [
        {
          "data": {
            "text/plain": [
              "tensor([False,  True, False,  ...,  True,  True, False])"
            ]
          },
          "execution_count": 8,
          "metadata": {},
          "output_type": "execute_result"
        }
      ],
      "source": [
        "data.train_mask"
      ]
    },
    {
      "cell_type": "code",
      "execution_count": null,
      "metadata": {
        "colab": {
          "base_uri": "https://localhost:8080/"
        },
        "id": "-hloqMqImut5",
        "outputId": "a126a1dc-29cb-4870-a0df-d21bcf85cae1"
      },
      "outputs": [
        {
          "data": {
            "text/plain": [
              "tensor([False, False, False,  ..., False, False, False])"
            ]
          },
          "execution_count": 9,
          "metadata": {},
          "output_type": "execute_result"
        }
      ],
      "source": [
        "data.val_mask"
      ]
    },
    {
      "cell_type": "code",
      "execution_count": null,
      "metadata": {
        "colab": {
          "base_uri": "https://localhost:8080/"
        },
        "id": "eNDYxuRGmxFA",
        "outputId": "3cc6d189-aad9-40e4-a4fd-008a21962c43"
      },
      "outputs": [
        {
          "data": {
            "text/plain": [
              "tensor([ True, False,  True,  ..., False, False,  True])"
            ]
          },
          "execution_count": 10,
          "metadata": {},
          "output_type": "execute_result"
        }
      ],
      "source": [
        "data.test_mask"
      ]
    },
    {
      "cell_type": "code",
      "execution_count": null,
      "metadata": {
        "colab": {
          "base_uri": "https://localhost:8080/"
        },
        "id": "_iwUfuzzm0Qu",
        "outputId": "cd2486e4-3bfb-4036-8daa-a13f7cd5470c"
      },
      "outputs": [
        {
          "data": {
            "text/plain": [
              "tensor([30, 17, 18,  ...,  3, 13, 13])"
            ]
          },
          "execution_count": 11,
          "metadata": {},
          "output_type": "execute_result"
        }
      ],
      "source": [
        "data.y"
      ]
    },
    {
      "cell_type": "code",
      "execution_count": null,
      "metadata": {
        "colab": {
          "base_uri": "https://localhost:8080/"
        },
        "id": "nRAGOc39m5VJ",
        "outputId": "9012f53c-aa0e-492a-f5d1-6a6c1d1e0c8f"
      },
      "outputs": [
        {
          "data": {
            "text/plain": [
              "torch.Size([232965, 602])"
            ]
          },
          "execution_count": 12,
          "metadata": {},
          "output_type": "execute_result"
        }
      ],
      "source": [
        "data.x.shape"
      ]
    },
    {
      "cell_type": "code",
      "execution_count": null,
      "metadata": {
        "id": "PrSFFW6yo-QW"
      },
      "outputs": [],
      "source": [
        "# !wget http://snap.stanford.edu/graphsage/reddit.zip"
      ]
    },
    {
      "cell_type": "code",
      "execution_count": null,
      "metadata": {
        "id": "4haGbb1mpXDK"
      },
      "outputs": [],
      "source": [
        "# !unzip reddit.zip"
      ]
    },
    {
      "cell_type": "code",
      "execution_count": null,
      "metadata": {
        "id": "MHP1SzQKp5Fy"
      },
      "outputs": [],
      "source": [
        "# import json\n",
        "# with open('reddit/reddit-class_map.json','r') as f:\n",
        "#   class_map = json.load(f)"
      ]
    },
    {
      "cell_type": "code",
      "execution_count": null,
      "metadata": {
        "id": "rw0lgOzDp_v2"
      },
      "outputs": [],
      "source": [
        "# import numpy as np\n",
        "# set(class_map.values())"
      ]
    },
    {
      "cell_type": "code",
      "execution_count": null,
      "metadata": {
        "colab": {
          "base_uri": "https://localhost:8080/"
        },
        "id": "P1dYxrhIqXhA",
        "outputId": "f4527900-9d70-4de8-bb4a-7fed23ba66bb"
      },
      "outputs": [
        {
          "data": {
            "text/plain": [
              "torch.Size([153431])"
            ]
          },
          "execution_count": 17,
          "metadata": {},
          "output_type": "execute_result"
        }
      ],
      "source": [
        "nonzero,=torch.where(data.train_mask)\n",
        "nonzero.shape"
      ]
    },
    {
      "cell_type": "code",
      "execution_count": null,
      "metadata": {
        "colab": {
          "base_uri": "https://localhost:8080/"
        },
        "id": "b2rrhqL4qtmP",
        "outputId": "500e55a0-28d5-41ab-995d-48c8a2d244a2"
      },
      "outputs": [
        {
          "data": {
            "text/plain": [
              "torch.Size([23831])"
            ]
          },
          "execution_count": 18,
          "metadata": {},
          "output_type": "execute_result"
        }
      ],
      "source": [
        "nonzero_val,=torch.where(data.val_mask)\n",
        "nonzero_val.shape"
      ]
    },
    {
      "cell_type": "code",
      "execution_count": null,
      "metadata": {
        "colab": {
          "base_uri": "https://localhost:8080/"
        },
        "id": "4vIjUIy3qxGS",
        "outputId": "990e30f1-1009-4e89-ac7e-d63df548bd3f"
      },
      "outputs": [
        {
          "data": {
            "text/plain": [
              "torch.Size([55703])"
            ]
          },
          "execution_count": 19,
          "metadata": {},
          "output_type": "execute_result"
        }
      ],
      "source": [
        "nonzero_test,=torch.where(data.test_mask)\n",
        "nonzero_test.shape"
      ]
    },
    {
      "cell_type": "code",
      "execution_count": null,
      "metadata": {
        "colab": {
          "base_uri": "https://localhost:8080/"
        },
        "id": "y9HFgwDqq66F",
        "outputId": "3eaae50f-a46d-4693-8234-ab52f3b32529"
      },
      "outputs": [
        {
          "name": "stdout",
          "output_type": "stream",
          "text": [
            "232965\n",
            "['65.86', '10.23', '23.91']\n"
          ]
        }
      ],
      "source": [
        "len_train,len_val,len_test=[len(k) for k in [nonzero,nonzero_val,nonzero_test]]\n",
        "total=len_train+len_val+len_test\n",
        "print(total)\n",
        "print([f'{k/total*100:.2f}' for k in [len_train,len_val,len_test]])"
      ]
    },
    {
      "cell_type": "code",
      "execution_count": null,
      "metadata": {
        "id": "ncRenMN_tCTJ"
      },
      "outputs": [],
      "source": [
        "train_nbr_loader = NeighborLoader(data, [25,10], input_nodes=data.train_mask, batch_size=1024,shuffle=True)\n",
        "val_nbr_loader = NeighborLoader(data, [25,10], input_nodes=data.val_mask, batch_size=1024)"
      ]
    },
    {
      "cell_type": "code",
      "execution_count": null,
      "metadata": {
        "id": "hPl23rjfts0N"
      },
      "outputs": [],
      "source": [
        "class GraphSAGE(torch.nn.Module):\n",
        "  \"\"\"GraphSAGE\"\"\"\n",
        "  def __init__(self, dim_in, dim_h, dim_out):\n",
        "    super().__init__()\n",
        "    self.sage1 = SAGEConv(dim_in, dim_h)\n",
        "    #self.sageh1 = SAGEConv(dim_h, dim_h)\n",
        "    #self.sageh2 = SAGEConv(dim_h, dim_h)\n",
        "    #self.sageh3 = SAGEConv(dim_h, dim_h)\n",
        "    self.sage2 = SAGEConv(dim_h, dim_out)\n",
        "\n",
        "  def forward(self, x, edge_index):\n",
        "    h = self.sage1(x, edge_index)\n",
        "    h = torch.relu(h)\n",
        "    #h = self.sageh1(h, edge_index)\n",
        "    #h = h+torch.relu(h)\n",
        "     #h = F.dropout(h, p=0.5, training=self.training)\n",
        "    h = self.sage2(h, edge_index)\n",
        "    return h"
      ]
    },
    {
      "cell_type": "code",
      "execution_count": null,
      "metadata": {
        "id": "HkUkndY1t57r"
      },
      "outputs": [],
      "source": [
        "from tqdm import tqdm\n",
        "from sklearn.metrics import f1_score, precision_score, recall_score\n",
        "\n",
        "def train(model, epochs, loss, optimizer, train_loader, val_loader, device):\n",
        "    tl = []\n",
        "    vl = []\n",
        "    f1s = []\n",
        "    f1v = []\n",
        "    total_train_loss = 0\n",
        "    total_val_loss = 0\n",
        "    total_train_f1 = 0\n",
        "    total_val_f1 = 0\n",
        "\n",
        "    for epoch in tqdm(range(epochs), desc='Epochs', unit='epochs', ncols=100):\n",
        "        model.train()\n",
        "        total_train_loss = 0\n",
        "        total_val_loss = 0\n",
        "        total_train_f1 = 0\n",
        "        total_val_f1 = 0\n",
        "\n",
        "        for sample_data in train_loader:\n",
        "            sample_data = sample_data.to(device)\n",
        "\n",
        "            out = model(sample_data.x, sample_data.edge_index)\n",
        "            yhat = torch.argmax(out, dim=-1).detach().cpu().numpy()\n",
        "\n",
        "            f1 = f1_score(sample_data.y.detach().cpu().numpy(), yhat, average='micro')\n",
        "            total_train_f1 += f1\n",
        "\n",
        "            total_loss = loss(out, sample_data.y)\n",
        "            optimizer.zero_grad()\n",
        "            total_loss.backward()\n",
        "            optimizer.step()\n",
        "\n",
        "            total_train_loss += total_loss.item()\n",
        "\n",
        "        tl.append(total_train_loss / len(train_loader))\n",
        "        f1s.append(total_train_f1 / len(train_loader))\n",
        "\n",
        "        with torch.no_grad():\n",
        "            model.eval()\n",
        "\n",
        "            for sample_data in val_loader:\n",
        "                sample_data = sample_data.to(device)\n",
        "\n",
        "                out = model(sample_data.x, sample_data.edge_index)\n",
        "                y_hat = torch.argmax(out, dim=-1).detach().cpu().numpy()\n",
        "\n",
        "                f1 = f1_score(sample_data.y.detach().cpu().numpy(), y_hat, average='micro')\n",
        "                total_val_f1 += f1\n",
        "\n",
        "                val_loss = loss(out, sample_data.y)\n",
        "                total_val_loss += val_loss.item()\n",
        "\n",
        "            vl.append(total_val_loss / len(val_loader))\n",
        "            f1v.append(total_val_f1 / len(val_loader))\n",
        "\n",
        "    # Calculate total F1 score, precision, and recall\n",
        "    #total_f1 = sum(f1v) + sum(f1s)\n",
        "    total_f1=f1_score(sample_data.y.detach().cpu().numpy(),y_hat,average='micro')\n",
        "    total_precision = precision_score(sample_data.y.detach().cpu().numpy(), y_hat, average='micro')\n",
        "    total_recall = recall_score(sample_data.y.detach().cpu().numpy(), y_hat, average='micro')\n",
        "\n",
        "    print(\"Total F1 Score: \", total_f1)\n",
        "    print(\"Total Precision: \", total_precision)\n",
        "    print(\"Total Recall: \", total_recall)\n",
        "\n",
        "    fig, ax = plt.subplots()\n",
        "    ax.plot(range(epochs), tl, label='train_loss')\n",
        "    ax.plot(range(epochs), vl, label='val_loss')\n",
        "    # ax[1].plot(range(epochs), f1s, label='train_f1')\n",
        "    #ax[1].plot(range(epochs), f1v, label='val_f1')\n",
        "    ax.legend()\n",
        "\n",
        "    plt.show()\n"
      ]
    },
    {
      "cell_type": "code",
      "execution_count": null,
      "metadata": {
        "id": "hRq6MThcxNpv"
      },
      "outputs": [],
      "source": [
        "device=torch.device('cuda:0' if torch.cuda.is_available() else 'cpu')"
      ]
    },
    {
      "cell_type": "code",
      "execution_count": null,
      "metadata": {
        "id": "2-zKeNFTuPLt"
      },
      "outputs": [],
      "source": [
        "model=GraphSAGE(602,256,41).to(device)"
      ]
    },
    {
      "cell_type": "code",
      "execution_count": null,
      "metadata": {
        "id": "v2VKPN2Aui-j"
      },
      "outputs": [],
      "source": [
        "loss_fn = torch.nn.CrossEntropyLoss()"
      ]
    },
    {
      "cell_type": "code",
      "execution_count": null,
      "metadata": {
        "id": "pgv9CTnpunvl"
      },
      "outputs": [],
      "source": [
        "optimizer = torch.optim.Adam(model.parameters(),lr=0.01, weight_decay=5e-4)"
      ]
    },
    {
      "cell_type": "code",
      "execution_count": null,
      "metadata": {
        "colab": {
          "base_uri": "https://localhost:8080/",
          "height": 499
        },
        "id": "A5WdSttCwnz_",
        "outputId": "ba848bea-251d-4268-a197-90b5c04c62db"
      },
      "outputs": [
        {
          "output_type": "stream",
          "name": "stderr",
          "text": [
            "Epochs: 100%|███████████████████████████████████████████████████| 20/20 [23:51<00:00, 71.58s/epochs]\n"
          ]
        },
        {
          "output_type": "stream",
          "name": "stdout",
          "text": [
            "Total F1 Score:  0.9484657915840121\n",
            "Total Precision:  0.9484657915840121\n",
            "Total Recall:  0.9484657915840121\n"
          ]
        },
        {
          "output_type": "display_data",
          "data": {
            "text/plain": [
              "<Figure size 640x480 with 1 Axes>"
            ],
            "image/png": "[encoded data removed]"
          },
          "metadata": {}
        }
      ],
      "source": [
        "train(model,20,loss_fn, optimizer,train_nbr_loader,val_loader=val_nbr_loader,device=device)"
      ]
    }
  ],
  "metadata": {
    "accelerator": "GPU",
    "colab": {
      "provenance": []
    },
    "gpuClass": "standard",
    "kernelspec": {
      "display_name": "Python 3",
      "name": "python3"
    },
    "language_info": {
      "name": "python"
    }
  },
  "nbformat": 4,
  "nbformat_minor": 0
}